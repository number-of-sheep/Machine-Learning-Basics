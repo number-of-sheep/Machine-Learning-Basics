{
  "cells": [
    {
      "cell_type": "markdown",
      "id": "76eccc7c",
      "metadata": {
        "id": "76eccc7c"
      },
      "source": [
        "The following additional libraries are needed to run this\n",
        "notebook. Note that running on Colab is experimental, please report a Github\n",
        "issue if you have any problem."
      ]
    },
    {
      "cell_type": "code",
      "execution_count": 1,
      "id": "5fef9caa",
      "metadata": {
        "id": "5fef9caa"
      },
      "outputs": [
        {
          "name": "stdout",
          "output_type": "stream",
          "text": [
            "Requirement already satisfied: d2l==0.17.5 in c:\\users\\owner\\appdata\\local\\programs\\python\\python39\\lib\\site-packages (0.17.5)\n",
            "Requirement already satisfied: jupyter==1.0.0 in c:\\users\\owner\\appdata\\local\\programs\\python\\python39\\lib\\site-packages (from d2l==0.17.5) (1.0.0)\n",
            "Requirement already satisfied: pandas==1.2.4 in c:\\users\\owner\\appdata\\local\\programs\\python\\python39\\lib\\site-packages (from d2l==0.17.5) (1.2.4)\n",
            "Requirement already satisfied: requests==2.25.1 in c:\\users\\owner\\appdata\\local\\programs\\python\\python39\\lib\\site-packages (from d2l==0.17.5) (2.25.1)\n",
            "Requirement already satisfied: numpy==1.21.5 in c:\\users\\owner\\appdata\\local\\programs\\python\\python39\\lib\\site-packages (from d2l==0.17.5) (1.21.5)\n",
            "Requirement already satisfied: matplotlib==3.5.1 in c:\\users\\owner\\appdata\\local\\programs\\python\\python39\\lib\\site-packages (from d2l==0.17.5) (3.5.1)\n",
            "Requirement already satisfied: notebook in c:\\users\\owner\\appdata\\local\\programs\\python\\python39\\lib\\site-packages (from jupyter==1.0.0->d2l==0.17.5) (6.4.12)\n",
            "Requirement already satisfied: jupyter-console in c:\\users\\owner\\appdata\\local\\programs\\python\\python39\\lib\\site-packages (from jupyter==1.0.0->d2l==0.17.5) (6.4.4)\n",
            "Requirement already satisfied: nbconvert in c:\\users\\owner\\appdata\\local\\programs\\python\\python39\\lib\\site-packages (from jupyter==1.0.0->d2l==0.17.5) (6.5.0)\n",
            "Requirement already satisfied: ipykernel in c:\\users\\owner\\appdata\\local\\programs\\python\\python39\\lib\\site-packages (from jupyter==1.0.0->d2l==0.17.5) (6.15.1)\n",
            "Requirement already satisfied: qtconsole in c:\\users\\owner\\appdata\\local\\programs\\python\\python39\\lib\\site-packages (from jupyter==1.0.0->d2l==0.17.5) (5.3.1)\n",
            "Requirement already satisfied: ipywidgets in c:\\users\\owner\\appdata\\local\\programs\\python\\python39\\lib\\site-packages (from jupyter==1.0.0->d2l==0.17.5) (7.7.1)\n",
            "Requirement already satisfied: pillow>=6.2.0 in c:\\users\\owner\\appdata\\local\\programs\\python\\python39\\lib\\site-packages (from matplotlib==3.5.1->d2l==0.17.5) (9.2.0)\n",
            "Requirement already satisfied: pyparsing>=2.2.1 in c:\\users\\owner\\appdata\\local\\programs\\python\\python39\\lib\\site-packages (from matplotlib==3.5.1->d2l==0.17.5) (3.0.9)\n",
            "Requirement already satisfied: packaging>=20.0 in c:\\users\\owner\\appdata\\local\\programs\\python\\python39\\lib\\site-packages (from matplotlib==3.5.1->d2l==0.17.5) (21.3)\n",
            "Requirement already satisfied: fonttools>=4.22.0 in c:\\users\\owner\\appdata\\local\\programs\\python\\python39\\lib\\site-packages (from matplotlib==3.5.1->d2l==0.17.5) (4.34.4)\n",
            "Requirement already satisfied: kiwisolver>=1.0.1 in c:\\users\\owner\\appdata\\local\\programs\\python\\python39\\lib\\site-packages (from matplotlib==3.5.1->d2l==0.17.5) (1.4.3)\n",
            "Requirement already satisfied: python-dateutil>=2.7 in c:\\users\\owner\\appdata\\local\\programs\\python\\python39\\lib\\site-packages (from matplotlib==3.5.1->d2l==0.17.5) (2.8.2)\n",
            "Requirement already satisfied: cycler>=0.10 in c:\\users\\owner\\appdata\\local\\programs\\python\\python39\\lib\\site-packages (from matplotlib==3.5.1->d2l==0.17.5) (0.11.0)\n",
            "Requirement already satisfied: pytz>=2017.3 in c:\\users\\owner\\appdata\\local\\programs\\python\\python39\\lib\\site-packages (from pandas==1.2.4->d2l==0.17.5) (2022.1)\n",
            "Requirement already satisfied: urllib3<1.27,>=1.21.1 in c:\\users\\owner\\appdata\\local\\programs\\python\\python39\\lib\\site-packages (from requests==2.25.1->d2l==0.17.5) (1.22)\n",
            "Requirement already satisfied: certifi>=2017.4.17 in c:\\users\\owner\\appdata\\local\\programs\\python\\python39\\lib\\site-packages (from requests==2.25.1->d2l==0.17.5) (2022.6.15)\n",
            "Requirement already satisfied: idna<3,>=2.5 in c:\\users\\owner\\appdata\\local\\programs\\python\\python39\\lib\\site-packages (from requests==2.25.1->d2l==0.17.5) (2.6)\n",
            "Requirement already satisfied: chardet<5,>=3.0.2 in c:\\users\\owner\\appdata\\local\\programs\\python\\python39\\lib\\site-packages (from requests==2.25.1->d2l==0.17.5) (3.0.4)\n",
            "Requirement already satisfied: six>=1.5 in c:\\users\\owner\\appdata\\local\\programs\\python\\python39\\lib\\site-packages (from python-dateutil>=2.7->matplotlib==3.5.1->d2l==0.17.5) (1.16.0)\n",
            "Requirement already satisfied: nest-asyncio in c:\\users\\owner\\appdata\\local\\programs\\python\\python39\\lib\\site-packages (from ipykernel->jupyter==1.0.0->d2l==0.17.5) (1.5.5)\n",
            "Requirement already satisfied: matplotlib-inline>=0.1 in c:\\users\\owner\\appdata\\local\\programs\\python\\python39\\lib\\site-packages (from ipykernel->jupyter==1.0.0->d2l==0.17.5) (0.1.3)\n",
            "Requirement already satisfied: psutil in c:\\users\\owner\\appdata\\local\\programs\\python\\python39\\lib\\site-packages (from ipykernel->jupyter==1.0.0->d2l==0.17.5) (5.9.1)\n",
            "Requirement already satisfied: tornado>=6.1 in c:\\users\\owner\\appdata\\local\\programs\\python\\python39\\lib\\site-packages (from ipykernel->jupyter==1.0.0->d2l==0.17.5) (6.2)\n",
            "Requirement already satisfied: debugpy>=1.0 in c:\\users\\owner\\appdata\\local\\programs\\python\\python39\\lib\\site-packages (from ipykernel->jupyter==1.0.0->d2l==0.17.5) (1.6.2)\n",
            "Requirement already satisfied: jupyter-client>=6.1.12 in c:\\users\\owner\\appdata\\local\\programs\\python\\python39\\lib\\site-packages (from ipykernel->jupyter==1.0.0->d2l==0.17.5) (7.3.4)\n",
            "Requirement already satisfied: traitlets>=5.1.0 in c:\\users\\owner\\appdata\\local\\programs\\python\\python39\\lib\\site-packages (from ipykernel->jupyter==1.0.0->d2l==0.17.5) (5.3.0)\n",
            "Requirement already satisfied: ipython>=7.23.1 in c:\\users\\owner\\appdata\\local\\programs\\python\\python39\\lib\\site-packages (from ipykernel->jupyter==1.0.0->d2l==0.17.5) (8.4.0)\n",
            "Requirement already satisfied: pyzmq>=17 in c:\\users\\owner\\appdata\\local\\programs\\python\\python39\\lib\\site-packages (from ipykernel->jupyter==1.0.0->d2l==0.17.5) (23.2.0)\n",
            "Requirement already satisfied: jupyterlab-widgets>=1.0.0 in c:\\users\\owner\\appdata\\local\\programs\\python\\python39\\lib\\site-packages (from ipywidgets->jupyter==1.0.0->d2l==0.17.5) (1.1.1)\n",
            "Requirement already satisfied: ipython-genutils~=0.2.0 in c:\\users\\owner\\appdata\\local\\programs\\python\\python39\\lib\\site-packages (from ipywidgets->jupyter==1.0.0->d2l==0.17.5) (0.2.0)\n",
            "Requirement already satisfied: widgetsnbextension~=3.6.0 in c:\\users\\owner\\appdata\\local\\programs\\python\\python39\\lib\\site-packages (from ipywidgets->jupyter==1.0.0->d2l==0.17.5) (3.6.1)\n",
            "Requirement already satisfied: prompt-toolkit!=3.0.0,!=3.0.1,<3.1.0,>=2.0.0 in c:\\users\\owner\\appdata\\local\\programs\\python\\python39\\lib\\site-packages (from jupyter-console->jupyter==1.0.0->d2l==0.17.5) (3.0.30)\n",
            "Requirement already satisfied: pygments in c:\\users\\owner\\appdata\\local\\programs\\python\\python39\\lib\\site-packages (from jupyter-console->jupyter==1.0.0->d2l==0.17.5) (2.12.0)\n",
            "Requirement already satisfied: mistune<2,>=0.8.1 in c:\\users\\owner\\appdata\\local\\programs\\python\\python39\\lib\\site-packages (from nbconvert->jupyter==1.0.0->d2l==0.17.5) (0.8.4)\n",
            "Requirement already satisfied: beautifulsoup4 in c:\\users\\owner\\appdata\\local\\programs\\python\\python39\\lib\\site-packages (from nbconvert->jupyter==1.0.0->d2l==0.17.5) (4.11.1)\n",
            "Requirement already satisfied: MarkupSafe>=2.0 in c:\\users\\owner\\appdata\\local\\programs\\python\\python39\\lib\\site-packages (from nbconvert->jupyter==1.0.0->d2l==0.17.5) (2.1.1)\n",
            "Requirement already satisfied: bleach in c:\\users\\owner\\appdata\\local\\programs\\python\\python39\\lib\\site-packages (from nbconvert->jupyter==1.0.0->d2l==0.17.5) (5.0.1)\n",
            "Requirement already satisfied: tinycss2 in c:\\users\\owner\\appdata\\local\\programs\\python\\python39\\lib\\site-packages (from nbconvert->jupyter==1.0.0->d2l==0.17.5) (1.1.1)\n",
            "Requirement already satisfied: jupyter-core>=4.7 in c:\\users\\owner\\appdata\\local\\programs\\python\\python39\\lib\\site-packages (from nbconvert->jupyter==1.0.0->d2l==0.17.5) (4.11.1)\n",
            "Requirement already satisfied: nbclient>=0.5.0 in c:\\users\\owner\\appdata\\local\\programs\\python\\python39\\lib\\site-packages (from nbconvert->jupyter==1.0.0->d2l==0.17.5) (0.6.6)\n",
            "Requirement already satisfied: jinja2>=3.0 in c:\\users\\owner\\appdata\\local\\programs\\python\\python39\\lib\\site-packages (from nbconvert->jupyter==1.0.0->d2l==0.17.5) (3.1.2)\n",
            "Requirement already satisfied: pandocfilters>=1.4.1 in c:\\users\\owner\\appdata\\local\\programs\\python\\python39\\lib\\site-packages (from nbconvert->jupyter==1.0.0->d2l==0.17.5) (1.5.0)\n",
            "Requirement already satisfied: jupyterlab-pygments in c:\\users\\owner\\appdata\\local\\programs\\python\\python39\\lib\\site-packages (from nbconvert->jupyter==1.0.0->d2l==0.17.5) (0.2.2)\n",
            "Requirement already satisfied: entrypoints>=0.2.2 in c:\\users\\owner\\appdata\\local\\programs\\python\\python39\\lib\\site-packages (from nbconvert->jupyter==1.0.0->d2l==0.17.5) (0.4)\n",
            "Requirement already satisfied: defusedxml in c:\\users\\owner\\appdata\\local\\programs\\python\\python39\\lib\\site-packages (from nbconvert->jupyter==1.0.0->d2l==0.17.5) (0.7.1)\n",
            "Requirement already satisfied: nbformat>=5.1 in c:\\users\\owner\\appdata\\local\\programs\\python\\python39\\lib\\site-packages (from nbconvert->jupyter==1.0.0->d2l==0.17.5) (5.4.0)\n",
            "Requirement already satisfied: terminado>=0.8.3 in c:\\users\\owner\\appdata\\local\\programs\\python\\python39\\lib\\site-packages (from notebook->jupyter==1.0.0->d2l==0.17.5) (0.15.0)\n",
            "Requirement already satisfied: Send2Trash>=1.8.0 in c:\\users\\owner\\appdata\\local\\programs\\python\\python39\\lib\\site-packages (from notebook->jupyter==1.0.0->d2l==0.17.5) (1.8.0)\n",
            "Requirement already satisfied: argon2-cffi in c:\\users\\owner\\appdata\\local\\programs\\python\\python39\\lib\\site-packages (from notebook->jupyter==1.0.0->d2l==0.17.5) (21.3.0)\n",
            "Requirement already satisfied: prometheus-client in c:\\users\\owner\\appdata\\local\\programs\\python\\python39\\lib\\site-packages (from notebook->jupyter==1.0.0->d2l==0.17.5) (0.14.1)\n",
            "Requirement already satisfied: qtpy>=2.0.1 in c:\\users\\owner\\appdata\\local\\programs\\python\\python39\\lib\\site-packages (from qtconsole->jupyter==1.0.0->d2l==0.17.5) (2.1.0)\n",
            "Requirement already satisfied: pickleshare in c:\\users\\owner\\appdata\\local\\programs\\python\\python39\\lib\\site-packages (from ipython>=7.23.1->ipykernel->jupyter==1.0.0->d2l==0.17.5) (0.7.5)\n",
            "Requirement already satisfied: stack-data in c:\\users\\owner\\appdata\\local\\programs\\python\\python39\\lib\\site-packages (from ipython>=7.23.1->ipykernel->jupyter==1.0.0->d2l==0.17.5) (0.3.0)\n",
            "Requirement already satisfied: setuptools>=18.5 in c:\\users\\owner\\appdata\\local\\programs\\python\\python39\\lib\\site-packages (from ipython>=7.23.1->ipykernel->jupyter==1.0.0->d2l==0.17.5) (49.2.1)\n",
            "Requirement already satisfied: backcall in c:\\users\\owner\\appdata\\local\\programs\\python\\python39\\lib\\site-packages (from ipython>=7.23.1->ipykernel->jupyter==1.0.0->d2l==0.17.5) (0.2.0)\n",
            "Requirement already satisfied: jedi>=0.16 in c:\\users\\owner\\appdata\\local\\programs\\python\\python39\\lib\\site-packages (from ipython>=7.23.1->ipykernel->jupyter==1.0.0->d2l==0.17.5) (0.18.1)\n",
            "Requirement already satisfied: colorama in c:\\users\\owner\\appdata\\local\\programs\\python\\python39\\lib\\site-packages (from ipython>=7.23.1->ipykernel->jupyter==1.0.0->d2l==0.17.5) (0.4.5)\n",
            "Requirement already satisfied: decorator in c:\\users\\owner\\appdata\\local\\programs\\python\\python39\\lib\\site-packages (from ipython>=7.23.1->ipykernel->jupyter==1.0.0->d2l==0.17.5) (5.1.1)\n",
            "Requirement already satisfied: pywin32>=1.0 in c:\\users\\owner\\appdata\\local\\programs\\python\\python39\\lib\\site-packages (from jupyter-core>=4.7->nbconvert->jupyter==1.0.0->d2l==0.17.5) (304)\n",
            "Requirement already satisfied: fastjsonschema in c:\\users\\owner\\appdata\\local\\programs\\python\\python39\\lib\\site-packages (from nbformat>=5.1->nbconvert->jupyter==1.0.0->d2l==0.17.5) (2.15.3)\n",
            "Requirement already satisfied: jsonschema>=2.6 in c:\\users\\owner\\appdata\\local\\programs\\python\\python39\\lib\\site-packages (from nbformat>=5.1->nbconvert->jupyter==1.0.0->d2l==0.17.5) (4.7.2)\n",
            "Requirement already satisfied: wcwidth in c:\\users\\owner\\appdata\\local\\programs\\python\\python39\\lib\\site-packages (from prompt-toolkit!=3.0.0,!=3.0.1,<3.1.0,>=2.0.0->jupyter-console->jupyter==1.0.0->d2l==0.17.5) (0.2.5)\n",
            "Requirement already satisfied: pywinpty>=1.1.0 in c:\\users\\owner\\appdata\\local\\programs\\python\\python39\\lib\\site-packages (from terminado>=0.8.3->notebook->jupyter==1.0.0->d2l==0.17.5) (2.0.6)\n",
            "Requirement already satisfied: argon2-cffi-bindings in c:\\users\\owner\\appdata\\local\\programs\\python\\python39\\lib\\site-packages (from argon2-cffi->notebook->jupyter==1.0.0->d2l==0.17.5) (21.2.0)\n",
            "Requirement already satisfied: soupsieve>1.2 in c:\\users\\owner\\appdata\\local\\programs\\python\\python39\\lib\\site-packages (from beautifulsoup4->nbconvert->jupyter==1.0.0->d2l==0.17.5) (2.3.2.post1)\n",
            "Requirement already satisfied: webencodings in c:\\users\\owner\\appdata\\local\\programs\\python\\python39\\lib\\site-packages (from bleach->nbconvert->jupyter==1.0.0->d2l==0.17.5) (0.5.1)\n",
            "Requirement already satisfied: parso<0.9.0,>=0.8.0 in c:\\users\\owner\\appdata\\local\\programs\\python\\python39\\lib\\site-packages (from jedi>=0.16->ipython>=7.23.1->ipykernel->jupyter==1.0.0->d2l==0.17.5) (0.8.3)\n",
            "Requirement already satisfied: pyrsistent!=0.17.0,!=0.17.1,!=0.17.2,>=0.14.0 in c:\\users\\owner\\appdata\\local\\programs\\python\\python39\\lib\\site-packages (from jsonschema>=2.6->nbformat>=5.1->nbconvert->jupyter==1.0.0->d2l==0.17.5) (0.18.1)\n",
            "Requirement already satisfied: attrs>=17.4.0 in c:\\users\\owner\\appdata\\local\\programs\\python\\python39\\lib\\site-packages (from jsonschema>=2.6->nbformat>=5.1->nbconvert->jupyter==1.0.0->d2l==0.17.5) (21.4.0)\n",
            "Requirement already satisfied: cffi>=1.0.1 in c:\\users\\owner\\appdata\\local\\programs\\python\\python39\\lib\\site-packages (from argon2-cffi-bindings->argon2-cffi->notebook->jupyter==1.0.0->d2l==0.17.5) (1.15.1)\n",
            "Requirement already satisfied: executing in c:\\users\\owner\\appdata\\local\\programs\\python\\python39\\lib\\site-packages (from stack-data->ipython>=7.23.1->ipykernel->jupyter==1.0.0->d2l==0.17.5) (0.8.3)\n",
            "Requirement already satisfied: pure-eval in c:\\users\\owner\\appdata\\local\\programs\\python\\python39\\lib\\site-packages (from stack-data->ipython>=7.23.1->ipykernel->jupyter==1.0.0->d2l==0.17.5) (0.2.2)\n",
            "Requirement already satisfied: asttokens in c:\\users\\owner\\appdata\\local\\programs\\python\\python39\\lib\\site-packages (from stack-data->ipython>=7.23.1->ipykernel->jupyter==1.0.0->d2l==0.17.5) (2.0.5)\n",
            "Requirement already satisfied: pycparser in c:\\users\\owner\\appdata\\local\\programs\\python\\python39\\lib\\site-packages (from cffi>=1.0.1->argon2-cffi-bindings->argon2-cffi->notebook->jupyter==1.0.0->d2l==0.17.5) (2.21)\n",
            "Note: you may need to restart the kernel to use updated packages.\n",
            "Note: you may need to restart the kernel to use updated packages.\n"
          ]
        },
        {
          "name": "stderr",
          "output_type": "stream",
          "text": [
            "ERROR: Could not find a version that satisfies the requirement mxnet-cu101==1.7.0 (from versions: 1.5.0)\n",
            "ERROR: No matching distribution found for mxnet-cu101==1.7.0\n"
          ]
        }
      ],
      "source": [
        "%pip install d2l==0.17.5\n",
        "%pip install -U mxnet-cu101==1.7.0"
      ]
    },
    {
      "cell_type": "markdown",
      "id": "1d520c12",
      "metadata": {
        "id": "1d520c12",
        "origin_pos": 0
      },
      "source": [
        "# AutoRec: Rating Prediction with Autoencoders\n",
        "\n",
        "Although the matrix factorization model achieves decent performance on the rating prediction task, it is essentially a linear model. Thus, such models are not capable of capturing complex nonlinear and intricate relationships that may be predictive of users' preferences. In this section, we introduce a nonlinear neural network collaborative filtering model, AutoRec :cite:`Sedhain.Menon.Sanner.ea.2015`. It identifies collaborative filtering (CF) with an autoencoder architecture and aims to integrate nonlinear transformations into CF on the basis of explicit feedback. Neural networks have been proven to be capable of approximating any continuous function, making it suitable to address the limitation of matrix factorization and enrich the expressiveness of matrix factorization.\n",
        "\n",
        "On one hand, AutoRec has the same structure as an autoencoder which consists of an input layer, a hidden layer, and a reconstruction (output) layer.  An autoencoder is a neural network that learns to copy its input to its output in order to code the inputs into the hidden (and usually low-dimensional) representations. In AutoRec, instead of explicitly embedding users/items into low-dimensional space, it uses the column/row of the interaction matrix as the input, then reconstructs the interaction matrix in the output layer.\n",
        "\n",
        "On the other hand, AutoRec differs from a traditional autoencoder: rather than learning the hidden representations, AutoRec focuses on learning/reconstructing the output layer. It uses a partially observed interaction matrix as the input, aiming to reconstruct a completed rating matrix. In the meantime, the missing entries of the input are filled in the output layer via reconstruction for the purpose of recommendation. \n",
        "\n",
        "There are two variants of AutoRec: user-based and item-based. For brevity, here we only introduce the item-based AutoRec. User-based AutoRec can be derived accordingly.\n",
        "\n",
        "\n",
        "## Model\n",
        "\n",
        "Let $\\mathbf{R}_{*i}$ denote the $i^\\mathrm{th}$ column of the rating matrix, where unknown ratings are set to zeros by default. The neural architecture is defined as:\n",
        "\n",
        "$$\n",
        "h(\\mathbf{R}_{*i}) = f(\\mathbf{W} \\cdot g(\\mathbf{V} \\mathbf{R}_{*i} + \\mu) + b)\n",
        "$$\n",
        "\n",
        "where $f(\\cdot)$ and $g(\\cdot)$ represent activation functions, $\\mathbf{W}$ and $\\mathbf{V}$ are weight matrices, $\\mu$ and $b$ are biases. Let $h( \\cdot )$ denote the whole network of AutoRec. The output $h(\\mathbf{R}_{*i})$ is the reconstruction of the $i^\\mathrm{th}$ column of the rating matrix.\n",
        "\n",
        "The following objective function aims to minimize the reconstruction error:\n",
        "\n",
        "$$\n",
        "\\underset{\\mathbf{W},\\mathbf{V},\\mu, b}{\\mathrm{argmin}} \\sum_{i=1}^M{\\parallel \\mathbf{R}_{*i} - h(\\mathbf{R}_{*i})\\parallel_{\\mathcal{O}}^2} +\\lambda(\\| \\mathbf{W} \\|_F^2 + \\| \\mathbf{V}\\|_F^2)\n",
        "$$\n",
        "\n",
        "where $\\| \\cdot \\|_{\\mathcal{O}}$ means only the contribution of observed ratings are considered, that is, only weights that are associated with observed inputs are updated during back-propagation.\n"
      ]
    },
    {
      "cell_type": "code",
      "execution_count": null,
      "id": "ed975e77",
      "metadata": {
        "attributes": {
          "classes": [],
          "id": "",
          "n": "3"
        },
        "execution": {
          "iopub.execute_input": "2022-07-10T01:45:13.520586Z",
          "iopub.status.busy": "2022-07-10T01:45:13.520162Z",
          "iopub.status.idle": "2022-07-10T01:45:15.979872Z",
          "shell.execute_reply": "2022-07-10T01:45:15.978766Z"
        },
        "id": "ed975e77",
        "origin_pos": 1,
        "tab": [
          "mxnet"
        ]
      },
      "outputs": [],
      "source": [
        "import mxnet as mx\n",
        "from mxnet import autograd, gluon, np, npx\n",
        "from mxnet.gluon import nn\n",
        "from d2l import mxnet as d2l\n",
        "\n",
        "npx.set_np()"
      ]
    },
    {
      "cell_type": "markdown",
      "id": "b63df336",
      "metadata": {
        "id": "b63df336",
        "origin_pos": 2
      },
      "source": [
        "## Implementing the Model\n",
        "\n",
        "A typical autoencoder consists of an encoder and a decoder. The encoder projects the input to hidden representations and the decoder maps the hidden layer to the reconstruction layer. We follow this practice and create the encoder and decoder with dense layers. The activation of encoder is set to `sigmoid` by default and no activation is applied for decoder. Dropout is included after the encoding transformation to reduce over-fitting. The gradients of unobserved inputs are masked out to ensure that only observed ratings contribute to the model learning process.\n"
      ]
    },
    {
      "cell_type": "code",
      "execution_count": null,
      "id": "7600f37d",
      "metadata": {
        "attributes": {
          "classes": [],
          "id": "",
          "n": "2"
        },
        "execution": {
          "iopub.execute_input": "2022-07-10T01:45:16.022132Z",
          "iopub.status.busy": "2022-07-10T01:45:16.021024Z",
          "iopub.status.idle": "2022-07-10T01:45:16.028099Z",
          "shell.execute_reply": "2022-07-10T01:45:16.027086Z"
        },
        "id": "7600f37d",
        "origin_pos": 3,
        "tab": [
          "mxnet"
        ]
      },
      "outputs": [],
      "source": [
        "class AutoRec(nn.Block):\n",
        "    def __init__(self, num_hidden, num_users, dropout=0.05):\n",
        "        super(AutoRec, self).__init__()\n",
        "        self.encoder = nn.Dense(num_hidden, activation='sigmoid',\n",
        "                                use_bias=True)\n",
        "        self.decoder = nn.Dense(num_users, use_bias=True)\n",
        "        self.dropout = nn.Dropout(dropout)\n",
        "\n",
        "    def forward(self, input):\n",
        "        hidden = self.dropout(self.encoder(input))\n",
        "        pred = self.decoder(hidden)\n",
        "        if autograd.is_training():  # Mask the gradient during training\n",
        "            return pred * np.sign(input)\n",
        "        else:\n",
        "            return pred"
      ]
    },
    {
      "cell_type": "markdown",
      "id": "a259e802",
      "metadata": {
        "id": "a259e802",
        "origin_pos": 4
      },
      "source": [
        "## Reimplementing the Evaluator\n",
        "\n",
        "Since the input and output have been changed, we need to reimplement the evaluation function, while we still use RMSE as the accuracy measure.\n"
      ]
    },
    {
      "cell_type": "code",
      "execution_count": null,
      "id": "12342417",
      "metadata": {
        "attributes": {
          "classes": [],
          "id": "",
          "n": "3"
        },
        "execution": {
          "iopub.execute_input": "2022-07-10T01:45:16.032094Z",
          "iopub.status.busy": "2022-07-10T01:45:16.031425Z",
          "iopub.status.idle": "2022-07-10T01:45:16.037758Z",
          "shell.execute_reply": "2022-07-10T01:45:16.036853Z"
        },
        "id": "12342417",
        "origin_pos": 5,
        "tab": [
          "mxnet"
        ]
      },
      "outputs": [],
      "source": [
        "def evaluator(network, inter_matrix, test_data, devices):\n",
        "    scores = []\n",
        "    for values in inter_matrix:\n",
        "        feat = gluon.utils.split_and_load(values, devices, even_split=False)\n",
        "        scores.extend([network(i).asnumpy() for i in feat])\n",
        "    recons = np.array([item for sublist in scores for item in sublist])\n",
        "    # Calculate the test RMSE\n",
        "    rmse = np.sqrt(np.sum(np.square(test_data - np.sign(test_data) * recons))\n",
        "                   / np.sum(np.sign(test_data)))\n",
        "    return float(rmse)"
      ]
    },
    {
      "cell_type": "markdown",
      "id": "6d2539c9",
      "metadata": {
        "id": "6d2539c9",
        "origin_pos": 6
      },
      "source": [
        "## Training and Evaluating the Model\n",
        "\n",
        "Now, let us train and evaluate AutoRec on the MovieLens dataset. We can clearly see that the test RMSE is lower than the matrix factorization model, confirming the effectiveness of neural networks in the rating prediction task.\n"
      ]
    },
    {
      "cell_type": "code",
      "execution_count": null,
      "id": "5e285753",
      "metadata": {
        "attributes": {
          "classes": [],
          "id": "",
          "n": "4"
        },
        "execution": {
          "iopub.execute_input": "2022-07-10T01:45:16.041435Z",
          "iopub.status.busy": "2022-07-10T01:45:16.041137Z",
          "iopub.status.idle": "2022-07-10T01:46:12.179794Z",
          "shell.execute_reply": "2022-07-10T01:46:12.178700Z"
        },
        "id": "5e285753",
        "origin_pos": 7,
        "outputId": "1482aed6-5e99-4db1-c6de-8edb861da7c9",
        "tab": [
          "mxnet"
        ]
      },
      "outputs": [
        {
          "name": "stdout",
          "output_type": "stream",
          "text": [
            "train loss 0.000, test RMSE 0.902\n",
            "34607946.7 examples/sec on [gpu(0), gpu(1)]\n"
          ]
        },
        {
          "data": {
            "image/svg+xml": "<?xml version=\"1.0\" encoding=\"utf-8\" standalone=\"no\"?>\n<!DOCTYPE svg PUBLIC \"-//W3C//DTD SVG 1.1//EN\"\n  \"http://www.w3.org/Graphics/SVG/1.1/DTD/svg11.dtd\">\n<svg xmlns:xlink=\"http://www.w3.org/1999/xlink\" width=\"238.965625pt\" height=\"184.455469pt\" viewBox=\"0 0 238.965625 184.455469\" xmlns=\"http://www.w3.org/2000/svg\" version=\"1.1\">\n <metadata>\n  <rdf:RDF xmlns:dc=\"http://purl.org/dc/elements/1.1/\" xmlns:cc=\"http://creativecommons.org/ns#\" xmlns:rdf=\"http://www.w3.org/1999/02/22-rdf-syntax-ns#\">\n   <cc:Work>\n    <dc:type rdf:resource=\"http://purl.org/dc/dcmitype/StillImage\"/>\n    <dc:date>2022-07-10T01:46:12.140713</dc:date>\n    <dc:format>image/svg+xml</dc:format>\n    <dc:creator>\n     <cc:Agent>\n      <dc:title>Matplotlib v3.5.1, https://matplotlib.org/</dc:title>\n     </cc:Agent>\n    </dc:creator>\n   </cc:Work>\n  </rdf:RDF>\n </metadata>\n <defs>\n  <style type=\"text/css\">*{stroke-linejoin: round; stroke-linecap: butt}</style>\n </defs>\n <g id=\"figure_1\">\n  <g id=\"patch_1\">\n   <path d=\"M 0 184.455469 \nL 238.965625 184.455469 \nL 238.965625 -0 \nL 0 -0 \nL 0 184.455469 \nz\n\" style=\"fill: none\"/>\n  </g>\n  <g id=\"axes_1\">\n   <g id=\"patch_2\">\n    <path d=\"M 30.103125 146.899219 \nL 225.403125 146.899219 \nL 225.403125 10.999219 \nL 30.103125 10.999219 \nz\n\" style=\"fill: #ffffff\"/>\n   </g>\n   <g id=\"matplotlib.axis_1\">\n    <g id=\"xtick_1\">\n     <g id=\"line2d_1\">\n      <path d=\"M 62.653125 146.899219 \nL 62.653125 10.999219 \n\" clip-path=\"url(#p23b2a386cf)\" style=\"fill: none; stroke: #b0b0b0; stroke-width: 0.8; stroke-linecap: square\"/>\n     </g>\n     <g id=\"line2d_2\">\n      <defs>\n       <path id=\"m8c6ecdca7e\" d=\"M 0 0 \nL 0 3.5 \n\" style=\"stroke: #000000; stroke-width: 0.8\"/>\n      </defs>\n      <g>\n       <use xlink:href=\"#m8c6ecdca7e\" x=\"62.653125\" y=\"146.899219\" style=\"stroke: #000000; stroke-width: 0.8\"/>\n      </g>\n     </g>\n     <g id=\"text_1\">\n      <!-- 5 -->\n      <g transform=\"translate(59.471875 161.497656)scale(0.1 -0.1)\">\n       <defs>\n        <path id=\"DejaVuSans-35\" d=\"M 691 4666 \nL 3169 4666 \nL 3169 4134 \nL 1269 4134 \nL 1269 2991 \nQ 1406 3038 1543 3061 \nQ 1681 3084 1819 3084 \nQ 2600 3084 3056 2656 \nQ 3513 2228 3513 1497 \nQ 3513 744 3044 326 \nQ 2575 -91 1722 -91 \nQ 1428 -91 1123 -41 \nQ 819 9 494 109 \nL 494 744 \nQ 775 591 1075 516 \nQ 1375 441 1709 441 \nQ 2250 441 2565 725 \nQ 2881 1009 2881 1497 \nQ 2881 1984 2565 2268 \nQ 2250 2553 1709 2553 \nQ 1456 2553 1204 2497 \nQ 953 2441 691 2322 \nL 691 4666 \nz\n\" transform=\"scale(0.015625)\"/>\n       </defs>\n       <use xlink:href=\"#DejaVuSans-35\"/>\n      </g>\n     </g>\n    </g>\n    <g id=\"xtick_2\">\n     <g id=\"line2d_3\">\n      <path d=\"M 103.340625 146.899219 \nL 103.340625 10.999219 \n\" clip-path=\"url(#p23b2a386cf)\" style=\"fill: none; stroke: #b0b0b0; stroke-width: 0.8; stroke-linecap: square\"/>\n     </g>\n     <g id=\"line2d_4\">\n      <g>\n       <use xlink:href=\"#m8c6ecdca7e\" x=\"103.340625\" y=\"146.899219\" style=\"stroke: #000000; stroke-width: 0.8\"/>\n      </g>\n     </g>\n     <g id=\"text_2\">\n      <!-- 10 -->\n      <g transform=\"translate(96.978125 161.497656)scale(0.1 -0.1)\">\n       <defs>\n        <path id=\"DejaVuSans-31\" d=\"M 794 531 \nL 1825 531 \nL 1825 4091 \nL 703 3866 \nL 703 4441 \nL 1819 4666 \nL 2450 4666 \nL 2450 531 \nL 3481 531 \nL 3481 0 \nL 794 0 \nL 794 531 \nz\n\" transform=\"scale(0.015625)\"/>\n        <path id=\"DejaVuSans-30\" d=\"M 2034 4250 \nQ 1547 4250 1301 3770 \nQ 1056 3291 1056 2328 \nQ 1056 1369 1301 889 \nQ 1547 409 2034 409 \nQ 2525 409 2770 889 \nQ 3016 1369 3016 2328 \nQ 3016 3291 2770 3770 \nQ 2525 4250 2034 4250 \nz\nM 2034 4750 \nQ 2819 4750 3233 4129 \nQ 3647 3509 3647 2328 \nQ 3647 1150 3233 529 \nQ 2819 -91 2034 -91 \nQ 1250 -91 836 529 \nQ 422 1150 422 2328 \nQ 422 3509 836 4129 \nQ 1250 4750 2034 4750 \nz\n\" transform=\"scale(0.015625)\"/>\n       </defs>\n       <use xlink:href=\"#DejaVuSans-31\"/>\n       <use xlink:href=\"#DejaVuSans-30\" x=\"63.623047\"/>\n      </g>\n     </g>\n    </g>\n    <g id=\"xtick_3\">\n     <g id=\"line2d_5\">\n      <path d=\"M 144.028125 146.899219 \nL 144.028125 10.999219 \n\" clip-path=\"url(#p23b2a386cf)\" style=\"fill: none; stroke: #b0b0b0; stroke-width: 0.8; stroke-linecap: square\"/>\n     </g>\n     <g id=\"line2d_6\">\n      <g>\n       <use xlink:href=\"#m8c6ecdca7e\" x=\"144.028125\" y=\"146.899219\" style=\"stroke: #000000; stroke-width: 0.8\"/>\n      </g>\n     </g>\n     <g id=\"text_3\">\n      <!-- 15 -->\n      <g transform=\"translate(137.665625 161.497656)scale(0.1 -0.1)\">\n       <use xlink:href=\"#DejaVuSans-31\"/>\n       <use xlink:href=\"#DejaVuSans-35\" x=\"63.623047\"/>\n      </g>\n     </g>\n    </g>\n    <g id=\"xtick_4\">\n     <g id=\"line2d_7\">\n      <path d=\"M 184.715625 146.899219 \nL 184.715625 10.999219 \n\" clip-path=\"url(#p23b2a386cf)\" style=\"fill: none; stroke: #b0b0b0; stroke-width: 0.8; stroke-linecap: square\"/>\n     </g>\n     <g id=\"line2d_8\">\n      <g>\n       <use xlink:href=\"#m8c6ecdca7e\" x=\"184.715625\" y=\"146.899219\" style=\"stroke: #000000; stroke-width: 0.8\"/>\n      </g>\n     </g>\n     <g id=\"text_4\">\n      <!-- 20 -->\n      <g transform=\"translate(178.353125 161.497656)scale(0.1 -0.1)\">\n       <defs>\n        <path id=\"DejaVuSans-32\" d=\"M 1228 531 \nL 3431 531 \nL 3431 0 \nL 469 0 \nL 469 531 \nQ 828 903 1448 1529 \nQ 2069 2156 2228 2338 \nQ 2531 2678 2651 2914 \nQ 2772 3150 2772 3378 \nQ 2772 3750 2511 3984 \nQ 2250 4219 1831 4219 \nQ 1534 4219 1204 4116 \nQ 875 4013 500 3803 \nL 500 4441 \nQ 881 4594 1212 4672 \nQ 1544 4750 1819 4750 \nQ 2544 4750 2975 4387 \nQ 3406 4025 3406 3419 \nQ 3406 3131 3298 2873 \nQ 3191 2616 2906 2266 \nQ 2828 2175 2409 1742 \nQ 1991 1309 1228 531 \nz\n\" transform=\"scale(0.015625)\"/>\n       </defs>\n       <use xlink:href=\"#DejaVuSans-32\"/>\n       <use xlink:href=\"#DejaVuSans-30\" x=\"63.623047\"/>\n      </g>\n     </g>\n    </g>\n    <g id=\"xtick_5\">\n     <g id=\"line2d_9\">\n      <path d=\"M 225.403125 146.899219 \nL 225.403125 10.999219 \n\" clip-path=\"url(#p23b2a386cf)\" style=\"fill: none; stroke: #b0b0b0; stroke-width: 0.8; stroke-linecap: square\"/>\n     </g>\n     <g id=\"line2d_10\">\n      <g>\n       <use xlink:href=\"#m8c6ecdca7e\" x=\"225.403125\" y=\"146.899219\" style=\"stroke: #000000; stroke-width: 0.8\"/>\n      </g>\n     </g>\n     <g id=\"text_5\">\n      <!-- 25 -->\n      <g transform=\"translate(219.040625 161.497656)scale(0.1 -0.1)\">\n       <use xlink:href=\"#DejaVuSans-32\"/>\n       <use xlink:href=\"#DejaVuSans-35\" x=\"63.623047\"/>\n      </g>\n     </g>\n    </g>\n    <g id=\"text_6\">\n     <!-- epoch -->\n     <g transform=\"translate(112.525 175.175781)scale(0.1 -0.1)\">\n      <defs>\n       <path id=\"DejaVuSans-65\" d=\"M 3597 1894 \nL 3597 1613 \nL 953 1613 \nQ 991 1019 1311 708 \nQ 1631 397 2203 397 \nQ 2534 397 2845 478 \nQ 3156 559 3463 722 \nL 3463 178 \nQ 3153 47 2828 -22 \nQ 2503 -91 2169 -91 \nQ 1331 -91 842 396 \nQ 353 884 353 1716 \nQ 353 2575 817 3079 \nQ 1281 3584 2069 3584 \nQ 2775 3584 3186 3129 \nQ 3597 2675 3597 1894 \nz\nM 3022 2063 \nQ 3016 2534 2758 2815 \nQ 2500 3097 2075 3097 \nQ 1594 3097 1305 2825 \nQ 1016 2553 972 2059 \nL 3022 2063 \nz\n\" transform=\"scale(0.015625)\"/>\n       <path id=\"DejaVuSans-70\" d=\"M 1159 525 \nL 1159 -1331 \nL 581 -1331 \nL 581 3500 \nL 1159 3500 \nL 1159 2969 \nQ 1341 3281 1617 3432 \nQ 1894 3584 2278 3584 \nQ 2916 3584 3314 3078 \nQ 3713 2572 3713 1747 \nQ 3713 922 3314 415 \nQ 2916 -91 2278 -91 \nQ 1894 -91 1617 61 \nQ 1341 213 1159 525 \nz\nM 3116 1747 \nQ 3116 2381 2855 2742 \nQ 2594 3103 2138 3103 \nQ 1681 3103 1420 2742 \nQ 1159 2381 1159 1747 \nQ 1159 1113 1420 752 \nQ 1681 391 2138 391 \nQ 2594 391 2855 752 \nQ 3116 1113 3116 1747 \nz\n\" transform=\"scale(0.015625)\"/>\n       <path id=\"DejaVuSans-6f\" d=\"M 1959 3097 \nQ 1497 3097 1228 2736 \nQ 959 2375 959 1747 \nQ 959 1119 1226 758 \nQ 1494 397 1959 397 \nQ 2419 397 2687 759 \nQ 2956 1122 2956 1747 \nQ 2956 2369 2687 2733 \nQ 2419 3097 1959 3097 \nz\nM 1959 3584 \nQ 2709 3584 3137 3096 \nQ 3566 2609 3566 1747 \nQ 3566 888 3137 398 \nQ 2709 -91 1959 -91 \nQ 1206 -91 779 398 \nQ 353 888 353 1747 \nQ 353 2609 779 3096 \nQ 1206 3584 1959 3584 \nz\n\" transform=\"scale(0.015625)\"/>\n       <path id=\"DejaVuSans-63\" d=\"M 3122 3366 \nL 3122 2828 \nQ 2878 2963 2633 3030 \nQ 2388 3097 2138 3097 \nQ 1578 3097 1268 2742 \nQ 959 2388 959 1747 \nQ 959 1106 1268 751 \nQ 1578 397 2138 397 \nQ 2388 397 2633 464 \nQ 2878 531 3122 666 \nL 3122 134 \nQ 2881 22 2623 -34 \nQ 2366 -91 2075 -91 \nQ 1284 -91 818 406 \nQ 353 903 353 1747 \nQ 353 2603 823 3093 \nQ 1294 3584 2113 3584 \nQ 2378 3584 2631 3529 \nQ 2884 3475 3122 3366 \nz\n\" transform=\"scale(0.015625)\"/>\n       <path id=\"DejaVuSans-68\" d=\"M 3513 2113 \nL 3513 0 \nL 2938 0 \nL 2938 2094 \nQ 2938 2591 2744 2837 \nQ 2550 3084 2163 3084 \nQ 1697 3084 1428 2787 \nQ 1159 2491 1159 1978 \nL 1159 0 \nL 581 0 \nL 581 4863 \nL 1159 4863 \nL 1159 2956 \nQ 1366 3272 1645 3428 \nQ 1925 3584 2291 3584 \nQ 2894 3584 3203 3211 \nQ 3513 2838 3513 2113 \nz\n\" transform=\"scale(0.015625)\"/>\n      </defs>\n      <use xlink:href=\"#DejaVuSans-65\"/>\n      <use xlink:href=\"#DejaVuSans-70\" x=\"61.523438\"/>\n      <use xlink:href=\"#DejaVuSans-6f\" x=\"125\"/>\n      <use xlink:href=\"#DejaVuSans-63\" x=\"186.181641\"/>\n      <use xlink:href=\"#DejaVuSans-68\" x=\"241.162109\"/>\n     </g>\n    </g>\n   </g>\n   <g id=\"matplotlib.axis_2\">\n    <g id=\"ytick_1\">\n     <g id=\"line2d_11\">\n      <path d=\"M 30.103125 146.899219 \nL 225.403125 146.899219 \n\" clip-path=\"url(#p23b2a386cf)\" style=\"fill: none; stroke: #b0b0b0; stroke-width: 0.8; stroke-linecap: square\"/>\n     </g>\n     <g id=\"line2d_12\">\n      <defs>\n       <path id=\"m452ceccc90\" d=\"M 0 0 \nL -3.5 0 \n\" style=\"stroke: #000000; stroke-width: 0.8\"/>\n      </defs>\n      <g>\n       <use xlink:href=\"#m452ceccc90\" x=\"30.103125\" y=\"146.899219\" style=\"stroke: #000000; stroke-width: 0.8\"/>\n      </g>\n     </g>\n     <g id=\"text_7\">\n      <!-- 0.0 -->\n      <g transform=\"translate(7.2 150.698437)scale(0.1 -0.1)\">\n       <defs>\n        <path id=\"DejaVuSans-2e\" d=\"M 684 794 \nL 1344 794 \nL 1344 0 \nL 684 0 \nL 684 794 \nz\n\" transform=\"scale(0.015625)\"/>\n       </defs>\n       <use xlink:href=\"#DejaVuSans-30\"/>\n       <use xlink:href=\"#DejaVuSans-2e\" x=\"63.623047\"/>\n       <use xlink:href=\"#DejaVuSans-30\" x=\"95.410156\"/>\n      </g>\n     </g>\n    </g>\n    <g id=\"ytick_2\">\n     <g id=\"line2d_13\">\n      <path d=\"M 30.103125 112.924219 \nL 225.403125 112.924219 \n\" clip-path=\"url(#p23b2a386cf)\" style=\"fill: none; stroke: #b0b0b0; stroke-width: 0.8; stroke-linecap: square\"/>\n     </g>\n     <g id=\"line2d_14\">\n      <g>\n       <use xlink:href=\"#m452ceccc90\" x=\"30.103125\" y=\"112.924219\" style=\"stroke: #000000; stroke-width: 0.8\"/>\n      </g>\n     </g>\n     <g id=\"text_8\">\n      <!-- 0.5 -->\n      <g transform=\"translate(7.2 116.723437)scale(0.1 -0.1)\">\n       <use xlink:href=\"#DejaVuSans-30\"/>\n       <use xlink:href=\"#DejaVuSans-2e\" x=\"63.623047\"/>\n       <use xlink:href=\"#DejaVuSans-35\" x=\"95.410156\"/>\n      </g>\n     </g>\n    </g>\n    <g id=\"ytick_3\">\n     <g id=\"line2d_15\">\n      <path d=\"M 30.103125 78.949219 \nL 225.403125 78.949219 \n\" clip-path=\"url(#p23b2a386cf)\" style=\"fill: none; stroke: #b0b0b0; stroke-width: 0.8; stroke-linecap: square\"/>\n     </g>\n     <g id=\"line2d_16\">\n      <g>\n       <use xlink:href=\"#m452ceccc90\" x=\"30.103125\" y=\"78.949219\" style=\"stroke: #000000; stroke-width: 0.8\"/>\n      </g>\n     </g>\n     <g id=\"text_9\">\n      <!-- 1.0 -->\n      <g transform=\"translate(7.2 82.748437)scale(0.1 -0.1)\">\n       <use xlink:href=\"#DejaVuSans-31\"/>\n       <use xlink:href=\"#DejaVuSans-2e\" x=\"63.623047\"/>\n       <use xlink:href=\"#DejaVuSans-30\" x=\"95.410156\"/>\n      </g>\n     </g>\n    </g>\n    <g id=\"ytick_4\">\n     <g id=\"line2d_17\">\n      <path d=\"M 30.103125 44.974219 \nL 225.403125 44.974219 \n\" clip-path=\"url(#p23b2a386cf)\" style=\"fill: none; stroke: #b0b0b0; stroke-width: 0.8; stroke-linecap: square\"/>\n     </g>\n     <g id=\"line2d_18\">\n      <g>\n       <use xlink:href=\"#m452ceccc90\" x=\"30.103125\" y=\"44.974219\" style=\"stroke: #000000; stroke-width: 0.8\"/>\n      </g>\n     </g>\n     <g id=\"text_10\">\n      <!-- 1.5 -->\n      <g transform=\"translate(7.2 48.773437)scale(0.1 -0.1)\">\n       <use xlink:href=\"#DejaVuSans-31\"/>\n       <use xlink:href=\"#DejaVuSans-2e\" x=\"63.623047\"/>\n       <use xlink:href=\"#DejaVuSans-35\" x=\"95.410156\"/>\n      </g>\n     </g>\n    </g>\n    <g id=\"ytick_5\">\n     <g id=\"line2d_19\">\n      <path d=\"M 30.103125 10.999219 \nL 225.403125 10.999219 \n\" clip-path=\"url(#p23b2a386cf)\" style=\"fill: none; stroke: #b0b0b0; stroke-width: 0.8; stroke-linecap: square\"/>\n     </g>\n     <g id=\"line2d_20\">\n      <g>\n       <use xlink:href=\"#m452ceccc90\" x=\"30.103125\" y=\"10.999219\" style=\"stroke: #000000; stroke-width: 0.8\"/>\n      </g>\n     </g>\n     <g id=\"text_11\">\n      <!-- 2.0 -->\n      <g transform=\"translate(7.2 14.798437)scale(0.1 -0.1)\">\n       <use xlink:href=\"#DejaVuSans-32\"/>\n       <use xlink:href=\"#DejaVuSans-2e\" x=\"63.623047\"/>\n       <use xlink:href=\"#DejaVuSans-30\" x=\"95.410156\"/>\n      </g>\n     </g>\n    </g>\n   </g>\n   <g id=\"line2d_21\">\n    <path d=\"M 30.103125 135.73005 \nL 38.240625 141.748636 \nL 46.378125 143.99169 \nL 54.515625 144.339403 \nL 62.653125 144.622172 \nL 70.790625 144.837386 \nL 78.928125 144.955161 \nL 87.065625 144.980088 \nL 95.203125 145.130538 \nL 103.340625 145.146134 \nL 111.478125 145.215375 \nL 119.615625 145.292851 \nL 127.753125 145.175948 \nL 135.890625 145.293818 \nL 144.028125 145.267279 \nL 152.165625 145.331656 \nL 160.303125 145.317569 \nL 168.440625 145.33405 \nL 176.578125 145.365167 \nL 184.715625 145.411896 \nL 192.853125 145.364426 \nL 200.990625 145.435102 \nL 209.128125 145.445953 \nL 217.265625 145.490804 \nL 225.403125 145.474438 \n\" clip-path=\"url(#p23b2a386cf)\" style=\"fill: none; stroke: #1f77b4; stroke-width: 1.5; stroke-linecap: square\"/>\n   </g>\n   <g id=\"line2d_22\">\n    <path d=\"M 30.103125 39.926745 \nL 38.240625 70.176252 \nL 46.378125 57.947937 \nL 54.515625 73.750092 \nL 62.653125 75.03294 \nL 70.790625 76.830844 \nL 78.928125 79.527327 \nL 87.065625 80.851029 \nL 95.203125 81.497297 \nL 103.340625 82.306222 \nL 111.478125 82.803506 \nL 119.615625 82.855477 \nL 127.753125 83.239564 \nL 135.890625 83.554276 \nL 144.028125 83.609131 \nL 152.165625 84.098995 \nL 160.303125 84.058546 \nL 168.440625 84.251624 \nL 176.578125 84.578385 \nL 184.715625 84.712384 \nL 192.853125 84.818007 \nL 200.990625 85.044272 \nL 209.128125 85.411498 \nL 217.265625 85.305141 \nL 225.403125 85.593458 \n\" clip-path=\"url(#p23b2a386cf)\" style=\"fill: none; stroke-dasharray: 5.55,2.4; stroke-dashoffset: 0; stroke: #bf00bf; stroke-width: 1.5\"/>\n   </g>\n   <g id=\"patch_3\">\n    <path d=\"M 30.103125 146.899219 \nL 30.103125 10.999219 \n\" style=\"fill: none; stroke: #000000; stroke-width: 0.8; stroke-linejoin: miter; stroke-linecap: square\"/>\n   </g>\n   <g id=\"patch_4\">\n    <path d=\"M 225.403125 146.899219 \nL 225.403125 10.999219 \n\" style=\"fill: none; stroke: #000000; stroke-width: 0.8; stroke-linejoin: miter; stroke-linecap: square\"/>\n   </g>\n   <g id=\"patch_5\">\n    <path d=\"M 30.103125 146.899219 \nL 225.403125 146.899219 \n\" style=\"fill: none; stroke: #000000; stroke-width: 0.8; stroke-linejoin: miter; stroke-linecap: square\"/>\n   </g>\n   <g id=\"patch_6\">\n    <path d=\"M 30.103125 10.999219 \nL 225.403125 10.999219 \n\" style=\"fill: none; stroke: #000000; stroke-width: 0.8; stroke-linejoin: miter; stroke-linecap: square\"/>\n   </g>\n   <g id=\"legend_1\">\n    <g id=\"patch_7\">\n     <path d=\"M 135.778125 48.355469 \nL 218.403125 48.355469 \nQ 220.403125 48.355469 220.403125 46.355469 \nL 220.403125 17.999219 \nQ 220.403125 15.999219 218.403125 15.999219 \nL 135.778125 15.999219 \nQ 133.778125 15.999219 133.778125 17.999219 \nL 133.778125 46.355469 \nQ 133.778125 48.355469 135.778125 48.355469 \nz\n\" style=\"fill: #ffffff; opacity: 0.8; stroke: #cccccc; stroke-linejoin: miter\"/>\n    </g>\n    <g id=\"line2d_23\">\n     <path d=\"M 137.778125 24.097656 \nL 147.778125 24.097656 \nL 157.778125 24.097656 \n\" style=\"fill: none; stroke: #1f77b4; stroke-width: 1.5; stroke-linecap: square\"/>\n    </g>\n    <g id=\"text_12\">\n     <!-- train loss -->\n     <g transform=\"translate(165.778125 27.597656)scale(0.1 -0.1)\">\n      <defs>\n       <path id=\"DejaVuSans-74\" d=\"M 1172 4494 \nL 1172 3500 \nL 2356 3500 \nL 2356 3053 \nL 1172 3053 \nL 1172 1153 \nQ 1172 725 1289 603 \nQ 1406 481 1766 481 \nL 2356 481 \nL 2356 0 \nL 1766 0 \nQ 1100 0 847 248 \nQ 594 497 594 1153 \nL 594 3053 \nL 172 3053 \nL 172 3500 \nL 594 3500 \nL 594 4494 \nL 1172 4494 \nz\n\" transform=\"scale(0.015625)\"/>\n       <path id=\"DejaVuSans-72\" d=\"M 2631 2963 \nQ 2534 3019 2420 3045 \nQ 2306 3072 2169 3072 \nQ 1681 3072 1420 2755 \nQ 1159 2438 1159 1844 \nL 1159 0 \nL 581 0 \nL 581 3500 \nL 1159 3500 \nL 1159 2956 \nQ 1341 3275 1631 3429 \nQ 1922 3584 2338 3584 \nQ 2397 3584 2469 3576 \nQ 2541 3569 2628 3553 \nL 2631 2963 \nz\n\" transform=\"scale(0.015625)\"/>\n       <path id=\"DejaVuSans-61\" d=\"M 2194 1759 \nQ 1497 1759 1228 1600 \nQ 959 1441 959 1056 \nQ 959 750 1161 570 \nQ 1363 391 1709 391 \nQ 2188 391 2477 730 \nQ 2766 1069 2766 1631 \nL 2766 1759 \nL 2194 1759 \nz\nM 3341 1997 \nL 3341 0 \nL 2766 0 \nL 2766 531 \nQ 2569 213 2275 61 \nQ 1981 -91 1556 -91 \nQ 1019 -91 701 211 \nQ 384 513 384 1019 \nQ 384 1609 779 1909 \nQ 1175 2209 1959 2209 \nL 2766 2209 \nL 2766 2266 \nQ 2766 2663 2505 2880 \nQ 2244 3097 1772 3097 \nQ 1472 3097 1187 3025 \nQ 903 2953 641 2809 \nL 641 3341 \nQ 956 3463 1253 3523 \nQ 1550 3584 1831 3584 \nQ 2591 3584 2966 3190 \nQ 3341 2797 3341 1997 \nz\n\" transform=\"scale(0.015625)\"/>\n       <path id=\"DejaVuSans-69\" d=\"M 603 3500 \nL 1178 3500 \nL 1178 0 \nL 603 0 \nL 603 3500 \nz\nM 603 4863 \nL 1178 4863 \nL 1178 4134 \nL 603 4134 \nL 603 4863 \nz\n\" transform=\"scale(0.015625)\"/>\n       <path id=\"DejaVuSans-6e\" d=\"M 3513 2113 \nL 3513 0 \nL 2938 0 \nL 2938 2094 \nQ 2938 2591 2744 2837 \nQ 2550 3084 2163 3084 \nQ 1697 3084 1428 2787 \nQ 1159 2491 1159 1978 \nL 1159 0 \nL 581 0 \nL 581 3500 \nL 1159 3500 \nL 1159 2956 \nQ 1366 3272 1645 3428 \nQ 1925 3584 2291 3584 \nQ 2894 3584 3203 3211 \nQ 3513 2838 3513 2113 \nz\n\" transform=\"scale(0.015625)\"/>\n       <path id=\"DejaVuSans-20\" transform=\"scale(0.015625)\"/>\n       <path id=\"DejaVuSans-6c\" d=\"M 603 4863 \nL 1178 4863 \nL 1178 0 \nL 603 0 \nL 603 4863 \nz\n\" transform=\"scale(0.015625)\"/>\n       <path id=\"DejaVuSans-73\" d=\"M 2834 3397 \nL 2834 2853 \nQ 2591 2978 2328 3040 \nQ 2066 3103 1784 3103 \nQ 1356 3103 1142 2972 \nQ 928 2841 928 2578 \nQ 928 2378 1081 2264 \nQ 1234 2150 1697 2047 \nL 1894 2003 \nQ 2506 1872 2764 1633 \nQ 3022 1394 3022 966 \nQ 3022 478 2636 193 \nQ 2250 -91 1575 -91 \nQ 1294 -91 989 -36 \nQ 684 19 347 128 \nL 347 722 \nQ 666 556 975 473 \nQ 1284 391 1588 391 \nQ 1994 391 2212 530 \nQ 2431 669 2431 922 \nQ 2431 1156 2273 1281 \nQ 2116 1406 1581 1522 \nL 1381 1569 \nQ 847 1681 609 1914 \nQ 372 2147 372 2553 \nQ 372 3047 722 3315 \nQ 1072 3584 1716 3584 \nQ 2034 3584 2315 3537 \nQ 2597 3491 2834 3397 \nz\n\" transform=\"scale(0.015625)\"/>\n      </defs>\n      <use xlink:href=\"#DejaVuSans-74\"/>\n      <use xlink:href=\"#DejaVuSans-72\" x=\"39.208984\"/>\n      <use xlink:href=\"#DejaVuSans-61\" x=\"80.322266\"/>\n      <use xlink:href=\"#DejaVuSans-69\" x=\"141.601562\"/>\n      <use xlink:href=\"#DejaVuSans-6e\" x=\"169.384766\"/>\n      <use xlink:href=\"#DejaVuSans-20\" x=\"232.763672\"/>\n      <use xlink:href=\"#DejaVuSans-6c\" x=\"264.550781\"/>\n      <use xlink:href=\"#DejaVuSans-6f\" x=\"292.333984\"/>\n      <use xlink:href=\"#DejaVuSans-73\" x=\"353.515625\"/>\n      <use xlink:href=\"#DejaVuSans-73\" x=\"405.615234\"/>\n     </g>\n    </g>\n    <g id=\"line2d_24\">\n     <path d=\"M 137.778125 38.775781 \nL 147.778125 38.775781 \nL 157.778125 38.775781 \n\" style=\"fill: none; stroke-dasharray: 5.55,2.4; stroke-dashoffset: 0; stroke: #bf00bf; stroke-width: 1.5\"/>\n    </g>\n    <g id=\"text_13\">\n     <!-- test RMSE -->\n     <g transform=\"translate(165.778125 42.275781)scale(0.1 -0.1)\">\n      <defs>\n       <path id=\"DejaVuSans-52\" d=\"M 2841 2188 \nQ 3044 2119 3236 1894 \nQ 3428 1669 3622 1275 \nL 4263 0 \nL 3584 0 \nL 2988 1197 \nQ 2756 1666 2539 1819 \nQ 2322 1972 1947 1972 \nL 1259 1972 \nL 1259 0 \nL 628 0 \nL 628 4666 \nL 2053 4666 \nQ 2853 4666 3247 4331 \nQ 3641 3997 3641 3322 \nQ 3641 2881 3436 2590 \nQ 3231 2300 2841 2188 \nz\nM 1259 4147 \nL 1259 2491 \nL 2053 2491 \nQ 2509 2491 2742 2702 \nQ 2975 2913 2975 3322 \nQ 2975 3731 2742 3939 \nQ 2509 4147 2053 4147 \nL 1259 4147 \nz\n\" transform=\"scale(0.015625)\"/>\n       <path id=\"DejaVuSans-4d\" d=\"M 628 4666 \nL 1569 4666 \nL 2759 1491 \nL 3956 4666 \nL 4897 4666 \nL 4897 0 \nL 4281 0 \nL 4281 4097 \nL 3078 897 \nL 2444 897 \nL 1241 4097 \nL 1241 0 \nL 628 0 \nL 628 4666 \nz\n\" transform=\"scale(0.015625)\"/>\n       <path id=\"DejaVuSans-53\" d=\"M 3425 4513 \nL 3425 3897 \nQ 3066 4069 2747 4153 \nQ 2428 4238 2131 4238 \nQ 1616 4238 1336 4038 \nQ 1056 3838 1056 3469 \nQ 1056 3159 1242 3001 \nQ 1428 2844 1947 2747 \nL 2328 2669 \nQ 3034 2534 3370 2195 \nQ 3706 1856 3706 1288 \nQ 3706 609 3251 259 \nQ 2797 -91 1919 -91 \nQ 1588 -91 1214 -16 \nQ 841 59 441 206 \nL 441 856 \nQ 825 641 1194 531 \nQ 1563 422 1919 422 \nQ 2459 422 2753 634 \nQ 3047 847 3047 1241 \nQ 3047 1584 2836 1778 \nQ 2625 1972 2144 2069 \nL 1759 2144 \nQ 1053 2284 737 2584 \nQ 422 2884 422 3419 \nQ 422 4038 858 4394 \nQ 1294 4750 2059 4750 \nQ 2388 4750 2728 4690 \nQ 3069 4631 3425 4513 \nz\n\" transform=\"scale(0.015625)\"/>\n       <path id=\"DejaVuSans-45\" d=\"M 628 4666 \nL 3578 4666 \nL 3578 4134 \nL 1259 4134 \nL 1259 2753 \nL 3481 2753 \nL 3481 2222 \nL 1259 2222 \nL 1259 531 \nL 3634 531 \nL 3634 0 \nL 628 0 \nL 628 4666 \nz\n\" transform=\"scale(0.015625)\"/>\n      </defs>\n      <use xlink:href=\"#DejaVuSans-74\"/>\n      <use xlink:href=\"#DejaVuSans-65\" x=\"39.208984\"/>\n      <use xlink:href=\"#DejaVuSans-73\" x=\"100.732422\"/>\n      <use xlink:href=\"#DejaVuSans-74\" x=\"152.832031\"/>\n      <use xlink:href=\"#DejaVuSans-20\" x=\"192.041016\"/>\n      <use xlink:href=\"#DejaVuSans-52\" x=\"223.828125\"/>\n      <use xlink:href=\"#DejaVuSans-4d\" x=\"293.310547\"/>\n      <use xlink:href=\"#DejaVuSans-53\" x=\"379.589844\"/>\n      <use xlink:href=\"#DejaVuSans-45\" x=\"443.066406\"/>\n     </g>\n    </g>\n   </g>\n  </g>\n </g>\n <defs>\n  <clipPath id=\"p23b2a386cf\">\n   <rect x=\"30.103125\" y=\"10.999219\" width=\"195.3\" height=\"135.9\"/>\n  </clipPath>\n </defs>\n</svg>\n",
            "text/plain": [
              "<Figure size 252x180 with 1 Axes>"
            ]
          },
          "metadata": {
            "needs_background": "light"
          },
          "output_type": "display_data"
        }
      ],
      "source": [
        "devices = d2l.try_all_gpus()\n",
        "# Load the MovieLens 100K dataset\n",
        "df, num_users, num_items = d2l.read_data_ml100k()\n",
        "train_data, test_data = d2l.split_data_ml100k(df, num_users, num_items)\n",
        "_, _, _, train_inter_mat = d2l.load_data_ml100k(train_data, num_users,\n",
        "                                                num_items)\n",
        "_, _, _, test_inter_mat = d2l.load_data_ml100k(test_data, num_users,\n",
        "                                               num_items)\n",
        "train_iter = gluon.data.DataLoader(train_inter_mat, shuffle=True,\n",
        "                                   last_batch=\"rollover\", batch_size=256,\n",
        "                                   num_workers=d2l.get_dataloader_workers())\n",
        "test_iter = gluon.data.DataLoader(np.array(train_inter_mat), shuffle=False,\n",
        "                                  last_batch=\"keep\", batch_size=1024,\n",
        "                                  num_workers=d2l.get_dataloader_workers())\n",
        "# Model initialization, training, and evaluation\n",
        "net = AutoRec(500, num_users)\n",
        "net.initialize(ctx=devices, force_reinit=True, init=mx.init.Normal(0.01))\n",
        "lr, num_epochs, wd, optimizer = 0.002, 25, 1e-5, 'adam'\n",
        "loss = gluon.loss.L2Loss()\n",
        "trainer = gluon.Trainer(net.collect_params(), optimizer,\n",
        "                        {\"learning_rate\": lr, 'wd': wd})\n",
        "d2l.train_recsys_rating(net, train_iter, test_iter, loss, trainer, num_epochs,\n",
        "                        devices, evaluator, inter_mat=test_inter_mat)"
      ]
    },
    {
      "cell_type": "markdown",
      "id": "d6730cd0",
      "metadata": {
        "id": "d6730cd0",
        "origin_pos": 8
      },
      "source": [
        "## Summary\n",
        "\n",
        "* We can frame the matrix factorization algorithm with autoencoders, while integrating non-linear layers and dropout regularization. \n",
        "* Experiments on the MovieLens 100K dataset show that AutoRec achieves superior performance than matrix factorization.\n",
        "\n",
        "\n",
        "\n",
        "## Exercises\n",
        "\n",
        "* Vary the hidden dimension of AutoRec to see its impact on the model performance.\n",
        "* Try to add more hidden layers. Is it helpful to improve the model performance?\n",
        "* Can you find a better combination of decoder and encoder activation functions?\n"
      ]
    },
    {
      "cell_type": "markdown",
      "id": "87200407",
      "metadata": {
        "id": "87200407",
        "origin_pos": 9,
        "tab": [
          "mxnet"
        ]
      },
      "source": [
        "[Discussions](https://discuss.d2l.ai/t/401)\n"
      ]
    }
  ],
  "metadata": {
    "accelerator": "GPU",
    "colab": {
      "name": "autorec.ipynb",
      "provenance": []
    },
    "kernelspec": {
      "display_name": "Python 3.9.1 64-bit",
      "language": "python",
      "name": "python3"
    },
    "language_info": {
      "codemirror_mode": {
        "name": "ipython",
        "version": 3
      },
      "file_extension": ".py",
      "mimetype": "text/x-python",
      "name": "python",
      "nbconvert_exporter": "python",
      "pygments_lexer": "ipython3",
      "version": "3.9.1"
    },
    "vscode": {
      "interpreter": {
        "hash": "852def37a9278762ebeac782021c341b2378141577ae7eac70db155a9cb09909"
      }
    }
  },
  "nbformat": 4,
  "nbformat_minor": 5
}
